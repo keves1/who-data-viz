{
 "cells": [
  {
   "cell_type": "markdown",
   "metadata": {},
   "source": [
    "## WHO Mortality Database Visualization"
   ]
  },
  {
   "cell_type": "markdown",
   "metadata": {},
   "source": [
    "The WHO Mortality database, available at https://www.who.int/data/data-collection-tools/who-mortality-database, is a compilation of annual data reported to WHO by countries around the world from 1950 to 2019. Not all countries are represented in this data.\n",
    "\n",
    "All analyses, interpretations, and conclusions are my own."
   ]
  },
  {
   "cell_type": "code",
   "execution_count": 1,
   "metadata": {},
   "outputs": [],
   "source": [
    "import seaborn as sns\n",
    "import pandas as pd\n",
    "import sqlite3\n",
    "import matplotlib.pyplot as plt\n",
    "from matplotlib.lines import Line2D"
   ]
  },
  {
   "cell_type": "code",
   "execution_count": 2,
   "metadata": {},
   "outputs": [],
   "source": [
    "path = r'/PATH/TO/DB/who_mortality.db'\n",
    "conn = sqlite3.connect(path)"
   ]
  },
  {
   "cell_type": "markdown",
   "metadata": {},
   "source": [
    "The WHO mortality database breaks down deaths by cause, country, year, and age group. It also includes aggregated information, with Cause 'AAA' indicating all causes combined for the given country, and the column Deaths1 reporting deaths for all ages.\n",
    "\n",
    "The database includes three tables: the mortality data, country codes and corresponding country names, and population data for a subset of countries."
   ]
  },
  {
   "cell_type": "code",
   "execution_count": 3,
   "metadata": {},
   "outputs": [
    {
     "data": {
      "text/plain": [
       "[('data',), ('country_codes',), ('population',)]"
      ]
     },
     "execution_count": 3,
     "metadata": {},
     "output_type": "execute_result"
    }
   ],
   "source": [
    "conn.execute(\"\"\"SELECT name FROM sqlite_master WHERE type='table'\"\"\").fetchall()"
   ]
  },
  {
   "cell_type": "markdown",
   "metadata": {},
   "source": [
    "Here is a sample of the mortality data:"
   ]
  },
  {
   "cell_type": "code",
   "execution_count": 4,
   "metadata": {},
   "outputs": [],
   "source": [
    "df = pd.read_sql_query('''SELECT * FROM data LIMIT 5''', conn)"
   ]
  },
  {
   "cell_type": "code",
   "execution_count": 5,
   "metadata": {},
   "outputs": [
    {
     "data": {
      "text/html": [
       "<div>\n",
       "<style scoped>\n",
       "    .dataframe tbody tr th:only-of-type {\n",
       "        vertical-align: middle;\n",
       "    }\n",
       "\n",
       "    .dataframe tbody tr th {\n",
       "        vertical-align: top;\n",
       "    }\n",
       "\n",
       "    .dataframe thead th {\n",
       "        text-align: right;\n",
       "    }\n",
       "</style>\n",
       "<table border=\"1\" class=\"dataframe\">\n",
       "  <thead>\n",
       "    <tr style=\"text-align: right;\">\n",
       "      <th></th>\n",
       "      <th>index</th>\n",
       "      <th>Country</th>\n",
       "      <th>Admin1</th>\n",
       "      <th>SubDiv</th>\n",
       "      <th>Year</th>\n",
       "      <th>List</th>\n",
       "      <th>Cause</th>\n",
       "      <th>Sex</th>\n",
       "      <th>Frmat</th>\n",
       "      <th>IM_Frmat</th>\n",
       "      <th>Deaths1</th>\n",
       "      <th>Deaths2</th>\n",
       "      <th>Deaths3</th>\n",
       "      <th>Deaths4</th>\n",
       "      <th>Deaths5</th>\n",
       "    </tr>\n",
       "  </thead>\n",
       "  <tbody>\n",
       "    <tr>\n",
       "      <th>0</th>\n",
       "      <td>0</td>\n",
       "      <td>1125</td>\n",
       "      <td>None</td>\n",
       "      <td>None</td>\n",
       "      <td>2000</td>\n",
       "      <td>103</td>\n",
       "      <td>A00</td>\n",
       "      <td>1</td>\n",
       "      <td>2</td>\n",
       "      <td>8</td>\n",
       "      <td>2</td>\n",
       "      <td>0</td>\n",
       "      <td>0</td>\n",
       "      <td>None</td>\n",
       "      <td>None</td>\n",
       "    </tr>\n",
       "    <tr>\n",
       "      <th>1</th>\n",
       "      <td>1</td>\n",
       "      <td>1125</td>\n",
       "      <td>None</td>\n",
       "      <td>None</td>\n",
       "      <td>2000</td>\n",
       "      <td>103</td>\n",
       "      <td>A01</td>\n",
       "      <td>1</td>\n",
       "      <td>2</td>\n",
       "      <td>8</td>\n",
       "      <td>27</td>\n",
       "      <td>8</td>\n",
       "      <td>2</td>\n",
       "      <td>None</td>\n",
       "      <td>None</td>\n",
       "    </tr>\n",
       "    <tr>\n",
       "      <th>2</th>\n",
       "      <td>2</td>\n",
       "      <td>1125</td>\n",
       "      <td>None</td>\n",
       "      <td>None</td>\n",
       "      <td>2000</td>\n",
       "      <td>103</td>\n",
       "      <td>A02</td>\n",
       "      <td>1</td>\n",
       "      <td>2</td>\n",
       "      <td>8</td>\n",
       "      <td>3</td>\n",
       "      <td>1</td>\n",
       "      <td>0</td>\n",
       "      <td>None</td>\n",
       "      <td>None</td>\n",
       "    </tr>\n",
       "    <tr>\n",
       "      <th>3</th>\n",
       "      <td>3</td>\n",
       "      <td>1125</td>\n",
       "      <td>None</td>\n",
       "      <td>None</td>\n",
       "      <td>2000</td>\n",
       "      <td>103</td>\n",
       "      <td>A03</td>\n",
       "      <td>1</td>\n",
       "      <td>2</td>\n",
       "      <td>8</td>\n",
       "      <td>2</td>\n",
       "      <td>0</td>\n",
       "      <td>0</td>\n",
       "      <td>None</td>\n",
       "      <td>None</td>\n",
       "    </tr>\n",
       "    <tr>\n",
       "      <th>4</th>\n",
       "      <td>4</td>\n",
       "      <td>1125</td>\n",
       "      <td>None</td>\n",
       "      <td>None</td>\n",
       "      <td>2000</td>\n",
       "      <td>103</td>\n",
       "      <td>A04</td>\n",
       "      <td>1</td>\n",
       "      <td>2</td>\n",
       "      <td>8</td>\n",
       "      <td>16</td>\n",
       "      <td>8</td>\n",
       "      <td>5</td>\n",
       "      <td>None</td>\n",
       "      <td>None</td>\n",
       "    </tr>\n",
       "  </tbody>\n",
       "</table>\n",
       "</div>"
      ],
      "text/plain": [
       "   index  Country Admin1 SubDiv  Year List Cause  Sex  Frmat  IM_Frmat  \\\n",
       "0      0     1125   None   None  2000  103   A00    1      2         8   \n",
       "1      1     1125   None   None  2000  103   A01    1      2         8   \n",
       "2      2     1125   None   None  2000  103   A02    1      2         8   \n",
       "3      3     1125   None   None  2000  103   A03    1      2         8   \n",
       "4      4     1125   None   None  2000  103   A04    1      2         8   \n",
       "\n",
       "   Deaths1  Deaths2  Deaths3 Deaths4 Deaths5  \n",
       "0        2        0        0    None    None  \n",
       "1       27        8        2    None    None  \n",
       "2        3        1        0    None    None  \n",
       "3        2        0        0    None    None  \n",
       "4       16        8        5    None    None  "
      ]
     },
     "execution_count": 5,
     "metadata": {},
     "output_type": "execute_result"
    }
   ],
   "source": [
    "df[df.columns[:15]].head()"
   ]
  },
  {
   "cell_type": "markdown",
   "metadata": {},
   "source": [
    "### Top 10 Countries with Highest Mortality Rates in 2015"
   ]
  },
  {
   "cell_type": "markdown",
   "metadata": {},
   "source": [
    "Here we will use information from all three tables to determine which countries had the highest mortality rates in 2015."
   ]
  },
  {
   "cell_type": "markdown",
   "metadata": {},
   "source": [
    "It is important to note that there is not population data for all countries that have mortality data, and not all countries in the world are represented."
   ]
  },
  {
   "cell_type": "code",
   "execution_count": 6,
   "metadata": {},
   "outputs": [
    {
     "data": {
      "text/plain": [
       "105"
      ]
     },
     "execution_count": 6,
     "metadata": {},
     "output_type": "execute_result"
    }
   ],
   "source": [
    "# number of countries reporting mortality data in 2015\n",
    "pd.read_sql_query('''SELECT COUNT(DISTINCT(Country)) FROM data WHERE Year = 2015''', conn).iloc[0][0]"
   ]
  },
  {
   "cell_type": "code",
   "execution_count": 7,
   "metadata": {},
   "outputs": [
    {
     "data": {
      "text/plain": [
       "65"
      ]
     },
     "execution_count": 7,
     "metadata": {},
     "output_type": "execute_result"
    }
   ],
   "source": [
    "# number of countries reporting population data in 2015\n",
    "pd.read_sql_query('''SELECT COUNT(DISTINCT(Country)) FROM population WHERE Year = 2015''', conn).iloc[0][0]"
   ]
  },
  {
   "cell_type": "code",
   "execution_count": 8,
   "metadata": {},
   "outputs": [],
   "source": [
    "sql = '''SELECT d.Country, SUM(d.Deaths1) as Deaths, pop.Population, country_codes.name as country_name\n",
    "           FROM data as d\n",
    "           JOIN(\n",
    "             SELECT SUM(Pop1) AS Population, Country\n",
    "               FROM population\n",
    "               WHERE YEAR = 2015\n",
    "               GROUP BY Country\n",
    "           ) AS pop \n",
    "             ON pop.Country = d.Country\n",
    "           JOIN country_codes\n",
    "             ON country_codes.Country = d.Country\n",
    "           WHERE Cause = 'AAA'\n",
    "             AND YEAR = 2015\n",
    "           GROUP BY d.Country;'''\n",
    "df = pd.read_sql_query(sql, conn)"
   ]
  },
  {
   "cell_type": "code",
   "execution_count": 9,
   "metadata": {},
   "outputs": [],
   "source": [
    "df['mortality_rate'] = df['Deaths'] / df['Population']"
   ]
  },
  {
   "cell_type": "code",
   "execution_count": 10,
   "metadata": {},
   "outputs": [],
   "source": [
    "df = df.sort_values(by='mortality_rate', ascending=False)"
   ]
  },
  {
   "cell_type": "code",
   "execution_count": 11,
   "metadata": {},
   "outputs": [],
   "source": [
    "df = df.head(10)"
   ]
  },
  {
   "cell_type": "code",
   "execution_count": 12,
   "metadata": {},
   "outputs": [
    {
     "data": {
      "text/plain": [
       "<matplotlib.axes._subplots.AxesSubplot at 0x7fb186cadd90>"
      ]
     },
     "execution_count": 12,
     "metadata": {},
     "output_type": "execute_result"
    },
    {
     "data": {
      "image/png": "[encoded data removed]",
      "text/plain": [
       "<Figure size 720x360 with 1 Axes>"
      ]
     },
     "metadata": {
      "needs_background": "light"
     },
     "output_type": "display_data"
    }
   ],
   "source": [
    "plt.figure(figsize=(10,5))\n",
    "sns.barplot(x='country_name', y='mortality_rate', data=df, order=df.sort_values('mortality_rate').country_name)"
   ]
  },
  {
   "cell_type": "markdown",
   "metadata": {},
   "source": [
    "### Number of Deaths Per Year Worldwide"
   ]
  },
  {
   "cell_type": "code",
   "execution_count": 13,
   "metadata": {},
   "outputs": [],
   "source": [
    "sql = '''SELECT SUM(Deaths1) as Deaths1, COUNT(DISTINCT(Country)) as countries_reported, Year\n",
    "         FROM data\n",
    "         WHERE Cause = 'AAA'\n",
    "         GROUP BY Year;'''\n",
    "df = pd.read_sql_query(sql, conn)"
   ]
  },
  {
   "cell_type": "markdown",
   "metadata": {},
   "source": [
    "Looking at number of deaths alone shows an unexpected trend, with deaths starting near zero in 1988 and increasing dramatically with time. However, comparing with the number of countries reported each year shows that the trend is largely due to the fact that the number of countries initially included is small. For recent years, there appears to be a lag in reporting of many countries."
   ]
  },
  {
   "cell_type": "code",
   "execution_count": 14,
   "metadata": {},
   "outputs": [
    {
     "data": {
      "text/plain": [
       "<matplotlib.legend.Legend at 0x7fb1842f3fa0>"
      ]
     },
     "execution_count": 14,
     "metadata": {},
     "output_type": "execute_result"
    },
    {
     "data": {
      "image/png": "[encoded data removed]",
      "text/plain": [
       "<Figure size 1080x360 with 2 Axes>"
      ]
     },
     "metadata": {
      "needs_background": "light"
     },
     "output_type": "display_data"
    }
   ],
   "source": [
    "plt.figure(figsize=(15,5))\n",
    "g = sns.lineplot(x='Year', y='Deaths1', data=df, color='b')\n",
    "sns.lineplot(x='Year', y='countries_reported', data=df, ax=g.axes.twinx(), color='g')\n",
    "g.legend(handles=[Line2D([], [], marker='_', color='b', label='Deaths1'), Line2D([], [], marker='_', color='g', label='countries_reported')])"
   ]
  },
  {
   "cell_type": "code",
   "execution_count": null,
   "metadata": {},
   "outputs": [],
   "source": []
  }
 ],
 "metadata": {
  "kernelspec": {
   "display_name": "Python 3",
   "language": "python",
   "name": "python3"
  },
  "language_info": {
   "codemirror_mode": {
    "name": "ipython",
    "version": 3
   },
   "file_extension": ".py",
   "mimetype": "text/x-python",
   "name": "python",
   "nbconvert_exporter": "python",
   "pygments_lexer": "ipython3",
   "version": "3.8.3"
  }
 },
 "nbformat": 4,
 "nbformat_minor": 5
}
